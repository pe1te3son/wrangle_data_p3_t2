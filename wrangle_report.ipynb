{
 "cells": [
  {
   "cell_type": "markdown",
   "metadata": {},
   "source": [
    "# Wrangle Report\n",
    "\n",
    "The purpose of this project is to put in practice what I learned in data wrangling course from Udacity. \n",
    "\n",
    "*This report describes wrangling efforts*\n",
    "\n",
    "## Project details\n",
    "*The tasks of this project are as follows:*\n",
    "1. Gathering data\n",
    "2. Assesing data\n",
    "3. Cleaning Data\n",
    "\n",
    "### Gathering Data\n",
    "*The data for this project consist of three different dataset that were obtained as follows:*\n",
    "\n",
    "1. **twitter_archive_enhanced.csv**: provided\tby Udacity\tand\tdownloaded\tmanually.\n",
    "2. **image_predictions.tsv**: hosted on Udacity's servers and was downloaded programmatically using the python request library\n",
    "3. **tweet_json.txt**: was obtained from programmatically from twitter API.  Using python libary called tweepy. \n",
    "\n",
    "### Accessing Data\n",
    "\n",
    "Once I had all data downloaded and saved on disk I loaded them into the Jupyter notebook and began exploration. I used methods such as `describe` or `info` to get a better idea about the dataset and what issues I may want to address. Also, I have explored data visually to make sure I would not miss anything that can't be assessed programmatically\n",
    "\n",
    "### Cleanning Data\n",
    "This part of the data wrangling was divided into three parts:\n",
    "1. Define \n",
    "2. Code\n",
    "3. test\n",
    "\n",
    "The first step I had done is to create a copy of all loaded dataset, just in case I make mistake I can always reload original data. \n",
    "I have done several steps to clean dataset such as remove unnecessary columns, convert some values to more reasonable types, merge dataset and so on. In the end, I saved master dataset into its own file.\n",
    "\n",
    "### Conclusion\n",
    "Data\twrangling\tis\ta\tcore\tskill\tthat\twhoever\thandles\tdata\tshould\tbe\tfamiliar\twith.\t\t\n",
    "I\thave\tused\tPython\tprogramming\tlanguage\tand\tsome\tof\tits\tpackages.\tThere\tare\t\n",
    "several\tadvantages of\tthis\ttool\t(as\tcompared\tto\te.g. Excel)\tthat\tis\tused\tby\tmany\t\n",
    "data\tscientists\t\n",
    "\n",
    "* For gathering data\tthere\tare\tseveral\tpackages\tthat\thelp\tscraping\tdata\toff\tthe\tweb,\tthat\thelp\tusing\tAPIs\tto\tcollect\tdata\t(Tweepy\tfor\tTwitter)\tor\tto\tcommunicate\twith\tSQL\tdatabases.\n",
    "* It\tis\tstrong\tin\tdealing\twith big\tdata (much\tbetter\tthan\tExcel).\n",
    "* It\tcan\tdeal\twith\ta\tlarge variety\tof\tdata (unstructured\tdata\tlike\tJSON\t(Tweets)\tor\talso\tstructured\tdata\tfrom SQL\tdatabases.\n"
   ]
  },
  {
   "cell_type": "code",
   "execution_count": 1,
   "metadata": {},
   "outputs": [
    {
     "data": {
      "text/plain": [
       "0"
      ]
     },
     "execution_count": 1,
     "metadata": {},
     "output_type": "execute_result"
    }
   ],
   "source": [
    "from subprocess import call\n",
    "call(['python', '-m', 'nbconvert', 'wrangle_report.ipynb'])"
   ]
  },
  {
   "cell_type": "code",
   "execution_count": null,
   "metadata": {},
   "outputs": [],
   "source": []
  }
 ],
 "metadata": {
  "kernelspec": {
   "display_name": "Python 3",
   "language": "python",
   "name": "python3"
  },
  "language_info": {
   "codemirror_mode": {
    "name": "ipython",
    "version": 3
   },
   "file_extension": ".py",
   "mimetype": "text/x-python",
   "name": "python",
   "nbconvert_exporter": "python",
   "pygments_lexer": "ipython3",
   "version": "3.7.0"
  }
 },
 "nbformat": 4,
 "nbformat_minor": 2
}
