{
 "cells": [
  {
   "attachments": {},
   "cell_type": "markdown",
   "metadata": {},
   "source": [
    "# Analysis\n",
    "\n",
    "## Introduction\n",
    "\n",
    "This Wrangle and Analyze Data Project is part of Udacity’s Data Analyst Nanodegree Term 2.\n",
    "The project involves wrangling of data from various sources associated with tweets from the\n",
    "Twitter user @dog_rates, also known as WeRateDogs. WeRateDogs rate’s pictures of people’s\n",
    "dogs in a humorous manner, most often giving ratings higher than 10/10. After scraping together\n",
    "the data, quality and tidiness issues were assessed and then cleaned. Finally, two visualizations\n",
    "were created and insights can be found below.\n",
    "\n",
    "\n",
    "### Dog Breeds\n",
    "The dataset contains four breed/types of dogs the most popular seem to be   `pupper` which has over 200 hundreds rows. The remaining 3 breeds hover around 40 where `floofer` is the least popular\n",
    "\n",
    "<img src=\"breeds.png\">\n"
   ]
  },
  {
   "attachments": {},
   "cell_type": "markdown",
   "metadata": {},
   "source": [
    "### Top dog names\n",
    "\n",
    "In this analysis, we had a look at the most popular names. The most retweets received dog with name Jamesy. where the total count was around 120 000 closely following by Stephan\n",
    "\n",
    "<img src=\"top10.png\">"
   ]
  },
  {
   "attachments": {},
   "cell_type": "markdown",
   "metadata": {},
   "source": [
    "### Retweet and Favorite counts\n",
    "In the last graph, we looked at retweet weekly retweets and weekly favourites. Where counts at the beginning were quite hight and fast falling down and right after then continuously increasing. The highest retweet count was around 400000 in September 2017 and highest favourite count around 200000 in January 2017\n",
    "\n",
    "<img src=\"counts.png\">"
   ]
  },
  {
   "cell_type": "code",
   "execution_count": 3,
   "metadata": {},
   "outputs": [
    {
     "data": {
      "text/plain": [
       "0"
      ]
     },
     "execution_count": 3,
     "metadata": {},
     "output_type": "execute_result"
    }
   ],
   "source": [
    "from subprocess import call\n",
    "call(['python', '-m', 'nbconvert', 'act_report.ipynb'])"
   ]
  },
  {
   "cell_type": "code",
   "execution_count": null,
   "metadata": {},
   "outputs": [],
   "source": []
  }
 ],
 "metadata": {
  "kernelspec": {
   "display_name": "Python 3",
   "language": "python",
   "name": "python3"
  },
  "language_info": {
   "codemirror_mode": {
    "name": "ipython",
    "version": 3
   },
   "file_extension": ".py",
   "mimetype": "text/x-python",
   "name": "python",
   "nbconvert_exporter": "python",
   "pygments_lexer": "ipython3",
   "version": "3.7.0"
  }
 },
 "nbformat": 4,
 "nbformat_minor": 2
}
